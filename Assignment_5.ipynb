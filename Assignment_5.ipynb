{
 "cells": [
  {
   "cell_type": "code",
   "execution_count": 1,
   "id": "fe212777",
   "metadata": {},
   "outputs": [],
   "source": [
    "import tkinter as tk\n",
    "from tkinter import messagebox\n"
   ]
  },
  {
   "cell_type": "code",
   "execution_count": 2,
   "id": "3cfb89be",
   "metadata": {},
   "outputs": [],
   "source": [
    "def calculate_bmi():\n",
    "    try:\n",
    "        weight = float(entry_weight.get())\n",
    "        age = int(entry_age.get())\n",
    "\n",
    "        feet = float(entry_height_feet.get())\n",
    "        inches = float(entry_height_inches.get())\n",
    "        height = (feet * 12 + inches) * 0.0254\n",
    "\n",
    "        bmi = weight / (height ** 2)\n",
    "\n",
    "        messagebox.showinfo(\"BMI Result\", f\"Your BMI is: {bmi:.2f}\")\n",
    "    except ValueError:\n",
    "        messagebox.showerror(\"Error\", \"Please enter valid values for height, weight, and age.\")\n"
   ]
  },
  {
   "cell_type": "code",
   "execution_count": 3,
   "id": "88cce3fd",
   "metadata": {},
   "outputs": [
    {
     "data": {
      "text/plain": [
       "''"
      ]
     },
     "execution_count": 3,
     "metadata": {},
     "output_type": "execute_result"
    }
   ],
   "source": [
    "# Create the main window\n",
    "window = tk.Tk()\n",
    "window.title(\"BMI Calculator\")"
   ]
  },
  {
   "cell_type": "code",
   "execution_count": 4,
   "id": "710b2d4b",
   "metadata": {},
   "outputs": [],
   "source": [
    "# Define a function to handle window closing\n",
    "def close_window():\n",
    "    window.destroy()"
   ]
  },
  {
   "cell_type": "code",
   "execution_count": 5,
   "id": "75e60e19",
   "metadata": {},
   "outputs": [],
   "source": [
    "# Create a menu bar\n",
    "menubar = tk.Menu(window)\n",
    "# Create a File menu\n",
    "file_menu = tk.Menu(menubar, tearoff=0)\n",
    "file_menu.add_command(label=\"Open\")\n",
    "file_menu.add_command(label=\"Save\")\n",
    "file_menu.add_separator()\n",
    "file_menu.add_command(label=\"Exit\", command=close_window)\n",
    "menubar.add_cascade(label=\"File\", menu=file_menu)\n",
    "\n",
    "# Create an Edit menu\n",
    "edit_menu = tk.Menu(menubar, tearoff=0)\n",
    "edit_menu.add_command(label=\"Cut\")\n",
    "edit_menu.add_command(label=\"Copy\")\n",
    "edit_menu.add_command(label=\"Paste\")\n",
    "menubar.add_cascade(label=\"Edit\", menu=edit_menu)\n",
    "\n",
    "# Create a View menu\n",
    "view_menu = tk.Menu(menubar, tearoff=0)\n",
    "view_menu.add_command(label=\"Zoom In\")\n",
    "view_menu.add_command(label=\"Zoom Out\")\n",
    "menubar.add_cascade(label=\"View\", menu=view_menu)\n",
    "\n",
    "# Set the menu bar\n",
    "window.config(menu=menubar)\n"
   ]
  },
  {
   "cell_type": "code",
   "execution_count": 6,
   "id": "79c9ee42",
   "metadata": {},
   "outputs": [],
   "source": [
    "# Create labels and entry fields for input\n",
    "label_height = tk.Label(window, text=\"Height (Feet and Inches):\")\n",
    "label_height.grid(row=0, column=0, sticky=\"w\")\n",
    "\n",
    "frame_height = tk.Frame(window)\n",
    "frame_height.grid(row=1, column=0, sticky=\"w\")\n",
    "\n",
    "label_height_feet = tk.Label(frame_height, text=\"Feet:\")\n",
    "label_height_feet.grid(row=0, column=0)\n",
    "entry_height_feet = tk.Entry(frame_height, width=5)\n",
    "entry_height_feet.grid(row=0, column=1, padx=5)\n",
    "\n",
    "label_height_inches = tk.Label(frame_height, text=\"Inches:\")\n",
    "label_height_inches.grid(row=0, column=2)\n",
    "entry_height_inches = tk.Entry(frame_height, width=5)\n",
    "entry_height_inches.grid(row=0, column=3, padx=5)\n",
    "\n",
    "label_weight = tk.Label(window, text=\"Weight (kg):\")\n",
    "label_weight.grid(row=2, column=0, sticky=\"w\")\n",
    "entry_weight = tk.Entry(window)\n",
    "entry_weight.grid(row=2, column=1, padx=5)\n",
    "\n",
    "label_age = tk.Label(window, text=\"Age:\")\n",
    "label_age.grid(row=3, column=0, sticky=\"w\")\n",
    "entry_age = tk.Entry(window)\n",
    "entry_age.grid(row=3, column=1, padx=5)"
   ]
  },
  {
   "cell_type": "code",
   "execution_count": 7,
   "id": "7640f41c",
   "metadata": {},
   "outputs": [],
   "source": [
    "# Create the calculate button\n",
    "button_calculate = tk.Button(window, text=\"Calculate BMI\", command=calculate_bmi)\n",
    "button_calculate.grid(row=4, column=0, columnspan=2, pady=10)"
   ]
  },
  {
   "cell_type": "code",
   "execution_count": 8,
   "id": "244e6360",
   "metadata": {},
   "outputs": [],
   "source": [
    "# Start the main event loop\n",
    "window.mainloop()"
   ]
  }
 ],
 "metadata": {
  "kernelspec": {
   "display_name": "Python 3 (ipykernel)",
   "language": "python",
   "name": "python3"
  },
  "language_info": {
   "codemirror_mode": {
    "name": "ipython",
    "version": 3
   },
   "file_extension": ".py",
   "mimetype": "text/x-python",
   "name": "python",
   "nbconvert_exporter": "python",
   "pygments_lexer": "ipython3",
   "version": "3.10.9"
  }
 },
 "nbformat": 4,
 "nbformat_minor": 5
}
